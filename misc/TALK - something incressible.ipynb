{
 "cells": [
  {
   "cell_type": "markdown",
   "metadata": {
    "slideshow": {
     "slide_type": "slide"
    }
   },
   "source": [
    "# Something Incressible\n",
    "\n",
    "thundertalks, 18. February 2017  \n",
    "Andreas Madsack"
   ]
  },
  {
   "cell_type": "markdown",
   "metadata": {
    "slideshow": {
     "slide_type": "slide"
    }
   },
   "source": [
    "## Was machen wir eigentlich?\n",
    "\n",
    "- automatisiert Pflanzen züchten\n",
    "- mit billiger Hardware\n",
    "- in OR3 im shackspace"
   ]
  },
  {
   "cell_type": "markdown",
   "metadata": {
    "slideshow": {
     "slide_type": "slide"
    }
   },
   "source": [
    "## http://cress.space\n",
    "\n",
    "![](https://paste.madflex.de/uF9Rsrwg/+inline?)"
   ]
  },
  {
   "cell_type": "markdown",
   "metadata": {
    "slideshow": {
     "slide_type": "slide"
    }
   },
   "source": [
    "## Zahlen\n",
    "\n",
    "- 3 Boxen\n",
    "- 250.000 Photos (die meisten mit 5MP)\n",
    "- 1.200.000 Sensorwerte (7x DHT22, 3x Wassersensoren, 4x Lichtsensoren)\n",
    "- seit 24.4.2016 insgesamt 62 Anzuchtversuche\n",
    "- 2 Pflanzenarten: Kresse und Phacelia"
   ]
  },
  {
   "cell_type": "markdown",
   "metadata": {
    "slideshow": {
     "slide_type": "slide"
    }
   },
   "source": [
    "## Herausforderungen\n",
    "\n",
    "- wir suchen eine bessere Bewässerungsmethode\n",
    "- bessere Auswertung des Wachstums anhand der Photos\n",
    "- Platinenlayouten statt Lochrastern"
   ]
  },
  {
   "cell_type": "markdown",
   "metadata": {
    "slideshow": {
     "slide_type": "slide"
    }
   },
   "source": [
    "## Treffen / Kontakt\n",
    "\n",
    "- wir treffen uns jeden Sonntag ab 19Uhr in OR3 zum abkressen\n",
    "- Kontakt: info@cress.space"
   ]
  }
 ],
 "metadata": {
  "celltoolbar": "Slideshow",
  "kernelspec": {
   "display_name": "Python 3",
   "language": "python",
   "name": "python3"
  },
  "language_info": {
   "codemirror_mode": {
    "name": "ipython",
    "version": 3
   },
   "file_extension": ".py",
   "mimetype": "text/x-python",
   "name": "python",
   "nbconvert_exporter": "python",
   "pygments_lexer": "ipython3",
   "version": "3.5.2"
  }
 },
 "nbformat": 4,
 "nbformat_minor": 2
}
